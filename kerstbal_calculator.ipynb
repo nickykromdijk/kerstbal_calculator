{
  "cells": [
    {
      "cell_type": "markdown",
      "source": [
        "#Bereken kerstversiering 🎄\n",
        "\n"
      ],
      "metadata": {
        "id": "sTkpwLC9jQEk"
      }
    },
    {
      "cell_type": "markdown",
      "source": [
        "Welkom bij het \"Bereken kerstversiering\" script. Dit Python script berekent het aantal decoraties (kerstballen en slingers) voor jouw kerstboom op basis van input zoals: hoe hoog je boom is, hoe vol je je boom wilt versieren en of je boom tegen een muur staat. Start het script door op het \"play-knopje\" linksbovenin te drukken en **voer daarna jouw input in onderaan het script**."
      ],
      "metadata": {
        "id": "IfVTQjlOj67F"
      }
    },
    {
      "cell_type": "code",
      "execution_count": 2,
      "metadata": {
        "colab": {
          "base_uri": "https://localhost:8080/"
        },
        "id": "QFNTpOpzSe-e",
        "outputId": "c8da662b-2f98-40f6-97ff-48f3ecfc0bfb"
      },
      "outputs": [
        {
          "output_type": "stream",
          "name": "stdout",
          "text": [
            "🎄 WELKOM BIJ DE KERSTBOOMVERSIERDER! 🎄\n",
            "\n",
            "Hoe hoog is je kerstboom in centimeters (bijv. 150)? 150\n",
            "\n",
            "Hoe vol wil je de boom versieren?\n",
            " 1. Niet super vol ✨ (less is more)\n",
            " 2. Gemiddeld 🎅 (normale hoeveelheid)\n",
            " 3. Lekker vol 🤩 (over-the-top feest!)\n",
            "\n",
            "Kies een optie (1, 2 of 3): 2\n",
            "\n",
            "Staat jouw boom tegen de muur?\n",
            " 1. Ja\n",
            " 2. Nee\n",
            "\n",
            "Kies een optie (1 of 2): 1\n",
            "\n",
            "------------------------------------------------------------------------\n",
            "\n",
            "🎄 Voor jouw kerstboom van 150 cm, met de gekozen decoratiedichtheid, heb je:\n",
            " - Ongeveer 47-57 kerstballen nodig.\n",
            " - Ongeveer 7.2 meter aan slingers nodig.\n",
            "\n",
            "💡 Tip: Ga je voor kleinere ornamenten, dan kun je er meer in je kerstboom kwijt.\n",
            "Heb je wat grotere ornamenten, dan is wellicht minder voldoende!\n",
            "\n",
            "📌 Let op: Dit is een inschatting.\n",
            "Laat je me weten of deze schatting voor jou heeft gewerkt en of je het een leuk scriptje vond?\n",
            "Stuur me een berichtje via Instagram: https://www.instagram.com/direct/t/17845673208049498 😊\n"
          ]
        }
      ],
      "source": [
        "def bereken_decoraties(lengte_cm, stijl, tegen_muur):\n",
        "    if stijl == 1:\n",
        "        ballen_factor = 0.35 * 0.8\n",
        "        slingers_factor = 0.048 * 0.9\n",
        "    elif stijl == 2:\n",
        "        ballen_factor = 0.35\n",
        "        slingers_factor = 0.048\n",
        "    elif stijl == 3:\n",
        "        ballen_factor = 0.35 * 1.2\n",
        "        slingers_factor = 0.048 * 1.2\n",
        "\n",
        "    kerstballen = int(lengte_cm * ballen_factor)\n",
        "    slingers = round(lengte_cm * slingers_factor, 1)\n",
        "\n",
        "    if tegen_muur == 2:\n",
        "        kerstballen *= 1.25\n",
        "\n",
        "    marge_ballen = int(kerstballen * 0.2)\n",
        "    kerstballen_min = int(kerstballen - marge_ballen // 2)\n",
        "    kerstballen_max = int(kerstballen + marge_ballen // 2)\n",
        "\n",
        "    ranges = {\n",
        "        1: (max(kerstballen_min - marge_ballen, 0), kerstballen_min),\n",
        "        2: (kerstballen_min, kerstballen_max),\n",
        "        3: (kerstballen_max, kerstballen_max + marge_ballen),\n",
        "    }\n",
        "\n",
        "    print(\"\\n\" + \"-\" * 72)\n",
        "    print(f\"\\n🎄 Voor jouw kerstboom van {lengte_cm} cm, met de gekozen decoratiedichtheid, heb je:\")\n",
        "    print(f\" - Ongeveer {ranges[stijl][0]}-{ranges[stijl][1]} kerstballen nodig.\")\n",
        "    print(f\" - Ongeveer {slingers} meter aan slingers nodig.\")\n",
        "    print(\"\\n💡 Tip: Ga je voor kleinere ornamenten, dan kun je er meer in je kerstboom kwijt.\")\n",
        "    print(\"Heb je wat grotere ornamenten, dan is wellicht minder voldoende!\")\n",
        "    print(\"\\n📌 Let op: Dit is een inschatting.\")\n",
        "    print(\"Laat je me weten of deze schatting voor jou heeft gewerkt en of je het een leuk scriptje vond?\")\n",
        "    print(\"Stuur me een berichtje op Instagram: https://www.instagram.com/direct/t/17845673208049498 😊\")\n",
        "\n",
        "def main():\n",
        "    print(\"🎄 WELKOM BIJ DE KERSTBOOMVERSIERDER! 🎄\\n\")\n",
        "\n",
        "    try:\n",
        "        lengte_cm = int(input(\"Hoe hoog is je kerstboom in centimeters (bijv. 150)? \"))\n",
        "        if lengte_cm <= 0:\n",
        "            raise ValueError\n",
        "    except ValueError:\n",
        "        print(\"Oeps, voer een geldig getal in voor de lengte van de boom! (start het script opnieuw ▶️)\")\n",
        "        return\n",
        "\n",
        "    print(\"\\nHoe vol wil je de boom versieren?\")\n",
        "    print(\" 1. Niet super vol ✨ (less is more)\")\n",
        "    print(\" 2. Gemiddeld 🎅 (normale hoeveelheid)\")\n",
        "    print(\" 3. Lekker vol 🤩 (over-the-top feest!)\")\n",
        "\n",
        "    try:\n",
        "        stijl = int(input(\"\\nKies een optie (1, 2 of 3): \"))\n",
        "        if stijl not in [1, 2, 3]:\n",
        "            raise ValueError\n",
        "    except ValueError:\n",
        "        print(\"Oeps, kies een geldig nummer: 1, 2 of 3! (start het script opnieuw ▶️)\")\n",
        "        return\n",
        "\n",
        "    print(\"\\nStaat jouw boom tegen de muur?\")\n",
        "    print(\" 1. Ja\")\n",
        "    print(\" 2. Nee\")\n",
        "\n",
        "    try:\n",
        "        tegen_muur = int(input(\"\\nKies een optie (1 of 2): \"))\n",
        "        if tegen_muur not in [1, 2]:\n",
        "            raise ValueError\n",
        "    except ValueError:\n",
        "        print(\"Oeps, kies een geldig nummer: 1 of 2! (start het script opnieuw ▶️)\")\n",
        "        return\n",
        "\n",
        "    bereken_decoraties(lengte_cm, stijl, tegen_muur)\n",
        "\n",
        "main()"
      ]
    }
  ],
  "metadata": {
    "colab": {
      "provenance": []
    },
    "kernelspec": {
      "display_name": "Python 3",
      "name": "python3"
    },
    "language_info": {
      "name": "python"
    }
  },
  "nbformat": 4,
  "nbformat_minor": 0
}